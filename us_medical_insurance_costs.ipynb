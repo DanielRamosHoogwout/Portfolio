{
  "nbformat": 4,
  "nbformat_minor": 0,
  "metadata": {
    "colab": {
      "name": "us-medical-insurance-costs.ipynb",
      "provenance": [],
      "collapsed_sections": [],
      "mount_file_id": "1g28JjXXjW75MPkjITLikRb9nFUgycHaG",
      "authorship_tag": "ABX9TyOs8s6ESswA6AGm4fffwhTX",
      "include_colab_link": true
    },
    "kernelspec": {
      "name": "python3",
      "display_name": "Python 3"
    },
    "language_info": {
      "name": "python"
    }
  },
  "cells": [
    {
      "cell_type": "markdown",
      "metadata": {
        "id": "view-in-github",
        "colab_type": "text"
      },
      "source": [
        "<a href=\"https://colab.research.google.com/github/DanielRamosHoogwout/Portfolio/blob/main/us_medical_insurance_costs.ipynb\" target=\"_parent\"><img src=\"https://colab.research.google.com/assets/colab-badge.svg\" alt=\"Open In Colab\"/></a>"
      ]
    },
    {
      "cell_type": "markdown",
      "metadata": {
        "id": "Gj6WfmQWb_eb"
      },
      "source": [
        "### US Medical Insurance Costs\n",
        "In this report we are going to bring some insights around the insurance costs that American citizens face during their lives.\n",
        "\n",
        "\n",
        "*   Summary statistics\n",
        "*   Let's see what lifestyle is the cheapest and also the most expensive one.\n",
        "*   Make a prediction of the cost of insurance for an individual\n",
        "\n",
        "\n"
      ]
    },
    {
      "cell_type": "code",
      "metadata": {
        "id": "FEC95iF4b8-6"
      },
      "source": [
        "import pandas as pd\n",
        "import numpy as np\n",
        "from matplotlib import pyplot as plt\n",
        "import seaborn as sns"
      ],
      "execution_count": 1,
      "outputs": []
    },
    {
      "cell_type": "code",
      "metadata": {
        "colab": {
          "base_uri": "https://localhost:8080/"
        },
        "id": "sVDH6Z90a619",
        "outputId": "f81e228e-af91-424c-92de-443c7df942c0"
      },
      "source": [
        "df = pd.read_csv(\"/content/drive/MyDrive/Colab Notebooks/insurance.csv\")\n",
        "print(df.head())"
      ],
      "execution_count": 2,
      "outputs": [
        {
          "output_type": "stream",
          "name": "stdout",
          "text": [
            "   age     sex     bmi  children smoker     region      charges\n",
            "0   19  female  27.900         0    yes  southwest  16884.92400\n",
            "1   18    male  33.770         1     no  southeast   1725.55230\n",
            "2   28    male  33.000         3     no  southeast   4449.46200\n",
            "3   33    male  22.705         0     no  northwest  21984.47061\n",
            "4   32    male  28.880         0     no  northwest   3866.85520\n"
          ]
        }
      ]
    },
    {
      "cell_type": "markdown",
      "metadata": {
        "id": "Mdpg36vmfrEG"
      },
      "source": [
        "Lets see if there are any missing values:"
      ]
    },
    {
      "cell_type": "code",
      "metadata": {
        "colab": {
          "base_uri": "https://localhost:8080/"
        },
        "id": "0Y3Fm5QvfyGm",
        "outputId": "10334b0f-a96b-4a5d-b57d-406a6f74cfe7"
      },
      "source": [
        "print(df.isnull().values.any())\n",
        "(df.isna().values.any())"
      ],
      "execution_count": 3,
      "outputs": [
        {
          "output_type": "stream",
          "name": "stdout",
          "text": [
            "False\n"
          ]
        },
        {
          "output_type": "execute_result",
          "data": {
            "text/plain": [
              "False"
            ]
          },
          "metadata": {},
          "execution_count": 3
        }
      ]
    },
    {
      "cell_type": "markdown",
      "metadata": {
        "id": "UvwpAhoBgK4-"
      },
      "source": [
        "Luckly we do not have missing values."
      ]
    },
    {
      "cell_type": "markdown",
      "metadata": {
        "id": "enBCyNqmceDI"
      },
      "source": [
        "#### General statistics:\n"
      ]
    },
    {
      "cell_type": "code",
      "metadata": {
        "colab": {
          "base_uri": "https://localhost:8080/"
        },
        "id": "_95EB7gRcj8d",
        "outputId": "a1f0296c-540b-4c03-b94b-5deeec881733"
      },
      "source": [
        "\n",
        "print(df.describe())"
      ],
      "execution_count": 4,
      "outputs": [
        {
          "output_type": "stream",
          "name": "stdout",
          "text": [
            "               age          bmi     children       charges\n",
            "count  1338.000000  1338.000000  1338.000000   1338.000000\n",
            "mean     39.207025    30.663397     1.094918  13270.422265\n",
            "std      14.049960     6.098187     1.205493  12110.011237\n",
            "min      18.000000    15.960000     0.000000   1121.873900\n",
            "25%      27.000000    26.296250     0.000000   4740.287150\n",
            "50%      39.000000    30.400000     1.000000   9382.033000\n",
            "75%      51.000000    34.693750     2.000000  16639.912515\n",
            "max      64.000000    53.130000     5.000000  63770.428010\n"
          ]
        }
      ]
    },
    {
      "cell_type": "markdown",
      "metadata": {
        "id": "Dzm3I1wZd1vU"
      },
      "source": [
        "We can observe that the mean is around 39 years old, with a bmi close to 31 (meaning that they are obese), with a child and paying an averege of 13270 in insurance costs.\n",
        "\n",
        "Let's see the age distribution, the percentage of smokers and the percentage of children."
      ]
    },
    {
      "cell_type": "code",
      "metadata": {
        "colab": {
          "base_uri": "https://localhost:8080/",
          "height": 265
        },
        "id": "fG14Xw6MeiSE",
        "outputId": "93c4370f-436b-4910-8374-13b401c0e88e"
      },
      "source": [
        "plt.hist(df.age, bins = 10)\n",
        "plt.show()"
      ],
      "execution_count": 5,
      "outputs": [
        {
          "output_type": "display_data",
          "data": {
            "image/png": "[encoded data removed]",
            "text/plain": [
              "<Figure size 432x288 with 1 Axes>"
            ]
          },
          "metadata": {
            "needs_background": "light"
          }
        }
      ]
    },
    {
      "cell_type": "markdown",
      "metadata": {
        "id": "zvUY0SSujdFk"
      },
      "source": [
        "We can observe that most frecuent age in this sample is around 20 years old."
      ]
    },
    {
      "cell_type": "code",
      "metadata": {
        "colab": {
          "base_uri": "https://localhost:8080/",
          "height": 299
        },
        "id": "gsxxmYzWixJ8",
        "outputId": "9323d5e8-e6fe-4dca-9450-4de6824e7891"
      },
      "source": [
        "sns.countplot(data = df, x = 'children')"
      ],
      "execution_count": 6,
      "outputs": [
        {
          "output_type": "execute_result",
          "data": {
            "text/plain": [
              "<matplotlib.axes._subplots.AxesSubplot at 0x7fbdb7e77810>"
            ]
          },
          "metadata": {},
          "execution_count": 6
        },
        {
          "output_type": "display_data",
          "data": {
            "image/png": "[encoded data removed]",
            "text/plain": [
              "<Figure size 432x288 with 1 Axes>"
            ]
          },
          "metadata": {
            "needs_background": "light"
          }
        }
      ]
    },
    {
      "cell_type": "markdown",
      "metadata": {
        "id": "9DErqwJvjttF"
      },
      "source": [
        "Most people in this sample have 0 children with is congruent with young people."
      ]
    },
    {
      "cell_type": "code",
      "metadata": {
        "colab": {
          "base_uri": "https://localhost:8080/",
          "height": 248
        },
        "id": "f7OdeY3zj4pb",
        "outputId": "4a45a58e-b275-4814-9c7e-7de9a63913c4"
      },
      "source": [
        "\n",
        "\n",
        "df.smoker.value_counts().plot(kind='pie')\n",
        "plt.show()"
      ],
      "execution_count": 7,
      "outputs": [
        {
          "output_type": "display_data",
          "data": {
            "image/png": "[encoded data removed]",
            "text/plain": [
              "<Figure size 432x288 with 1 Axes>"
            ]
          },
          "metadata": {}
        }
      ]
    },
    {
      "cell_type": "markdown",
      "metadata": {
        "id": "ylMLabQXL8pq"
      },
      "source": [
        "Lets see a histogram to feel how charges are distributed:"
      ]
    },
    {
      "cell_type": "code",
      "metadata": {
        "colab": {
          "base_uri": "https://localhost:8080/",
          "height": 265
        },
        "id": "-tB_JyToMFDj",
        "outputId": "15e1530a-956d-4296-e2fd-1d453c33500d"
      },
      "source": [
        "plt.hist(df.charges, bins = 10)\n",
        "plt.show()"
      ],
      "execution_count": 8,
      "outputs": [
        {
          "output_type": "display_data",
          "data": {
            "image/png": "[encoded data removed]",
            "text/plain": [
              "<Figure size 432x288 with 1 Axes>"
            ]
          },
          "metadata": {
            "needs_background": "light"
          }
        }
      ]
    },
    {
      "cell_type": "markdown",
      "metadata": {
        "id": "UQ49kvsxMWJu"
      },
      "source": [
        "We se that most of the people less than 20000$, makes sense because the mayority has almost no children, they do not smoke and are young.\n",
        "\n",
        "But what about BMI? Are americans overweight?"
      ]
    },
    {
      "cell_type": "code",
      "metadata": {
        "colab": {
          "base_uri": "https://localhost:8080/",
          "height": 265
        },
        "id": "I6pKClrhMzS9",
        "outputId": "53040267-a88c-42f9-9df5-67d28cdfff86"
      },
      "source": [
        "plt.hist(df.bmi)\n",
        "plt.show()"
      ],
      "execution_count": 9,
      "outputs": [
        {
          "output_type": "display_data",
          "data": {
            "image/png": "[encoded data removed]",
            "text/plain": [
              "<Figure size 432x288 with 1 Axes>"
            ]
          },
          "metadata": {
            "needs_background": "light"
          }
        }
      ]
    },
    {
      "cell_type": "markdown",
      "metadata": {
        "id": "piws38XhM69T"
      },
      "source": [
        "Seems like a \"Normal\" dirstibution where the mean is around 30.\n",
        "Remember that to be considered healthy bmi should be between 18.5 and 24.9\n",
        "We can observe that see that most of the people hover around 30 so that means they are overweight or obese."
      ]
    },
    {
      "cell_type": "markdown",
      "metadata": {
        "id": "WvKN5TT5NdX8"
      },
      "source": [
        "### Cheapest and most Expensive lifestyle\n",
        "\n",
        "Let's see the outliers, what do we have to do to pay as little as possible?"
      ]
    },
    {
      "cell_type": "code",
      "metadata": {
        "colab": {
          "base_uri": "https://localhost:8080/"
        },
        "id": "-nZG4lr9N_Pk",
        "outputId": "55e7323e-40dd-4a69-cfbf-4752736ee6ca"
      },
      "source": [
        "print(df[df.charges == np.min(df.charges)])"
      ],
      "execution_count": 11,
      "outputs": [
        {
          "output_type": "stream",
          "name": "stdout",
          "text": [
            "     age   sex    bmi  children smoker     region    charges\n",
            "940   18  male  23.21         0     no  southeast  1121.8739\n"
          ]
        }
      ]
    },
    {
      "cell_type": "markdown",
      "metadata": {
        "id": "qDPHMPyxOmuM"
      },
      "source": [
        "We can see he is a male individual, with no children, non smoker and a healthy lifestyle.\n",
        "\n",
        "On the other hand, let's see the most expensive charge:"
      ]
    },
    {
      "cell_type": "code",
      "metadata": {
        "colab": {
          "base_uri": "https://localhost:8080/"
        },
        "id": "LrCit511OxKA",
        "outputId": "fe85a67f-2fe2-4472-80aa-084aec0acec4"
      },
      "source": [
        "print(df[df.charges == np.max(df.charges)])"
      ],
      "execution_count": 12,
      "outputs": [
        {
          "output_type": "stream",
          "name": "stdout",
          "text": [
            "     age     sex    bmi  children smoker     region      charges\n",
            "543   54  female  47.41         0    yes  southeast  63770.42801\n"
          ]
        }
      ]
    },
    {
      "cell_type": "markdown",
      "metadata": {
        "id": "pSblT1a3PNVD"
      },
      "source": [
        "Suprisingly the person that pays the most is not the oldest and has no children but she smokes and is extremely obese"
      ]
    },
    {
      "cell_type": "markdown",
      "metadata": {
        "id": "S9vbTKguSm97"
      },
      "source": [
        "### Predict insurance cost for an individual"
      ]
    },
    {
      "cell_type": "markdown",
      "metadata": {
        "id": "PGQEzWYgepz8"
      },
      "source": [
        "We have to get the right data types before doing the linear regression."
      ]
    },
    {
      "cell_type": "code",
      "metadata": {
        "colab": {
          "base_uri": "https://localhost:8080/"
        },
        "id": "VCutfLd6eiSW",
        "outputId": "3fc5fed1-f42d-4ade-d333-2598d5d3d3b7"
      },
      "source": [
        " df.sex= df.sex.astype('category')\n",
        "df.smoker = df.smoker.astype('category')\n",
        "df.sex = df.sex.cat.codes\n",
        "df.smoker = df.smoker.cat.codes\n",
        "print(df.dtypes)"
      ],
      "execution_count": 17,
      "outputs": [
        {
          "output_type": "stream",
          "name": "stdout",
          "text": [
            "age           int64\n",
            "sex            int8\n",
            "bmi         float64\n",
            "children      int64\n",
            "smoker         int8\n",
            "region       object\n",
            "charges     float64\n",
            "dtype: object\n"
          ]
        }
      ]
    },
    {
      "cell_type": "markdown",
      "metadata": {
        "id": "er2g_vx0e2zl"
      },
      "source": [
        "Now we can start to do the regression"
      ]
    },
    {
      "cell_type": "code",
      "metadata": {
        "colab": {
          "base_uri": "https://localhost:8080/"
        },
        "id": "la7Xz_I-SssG",
        "outputId": "8a05b2a9-832e-47cf-b211-cc8ca50c88a7"
      },
      "source": [
        "from sklearn import linear_model\n",
        "import statsmodels.api as sm\n",
        "\n",
        "X = df[['age','sex','bmi','children','smoker']] # here we have 2 variables for multiple regression. If you just want to use one variable for simple linear regression, then use X = df['Interest_Rate'] for example.Alternatively, you may add additional variables within the brackets\n",
        "Y = df['charges']\n",
        " \n",
        "# with sklearn\n",
        "regr = linear_model.LinearRegression()\n",
        "regr.fit(X, Y)\n",
        "\n",
        "print('Intercept: \\n', regr.intercept_)\n",
        "print('Coefficients: \\n', regr.coef_)\n",
        "\n",
        "# prediction with sklearn\n",
        "new_age = 28\n",
        "new_sex = 0\n",
        "new_bmi = 23.4\n",
        "new_children = 0\n",
        "new_smoker = 0\n",
        "print ('Predicted Insurance Cost: \\n', regr.predict([[new_age, new_sex, new_bmi, new_children, new_smoker]]))\n",
        "\n",
        "\n"
      ],
      "execution_count": 28,
      "outputs": [
        {
          "output_type": "stream",
          "name": "stdout",
          "text": [
            "Intercept: \n",
            " -12052.461985664719\n",
            "Coefficients: \n",
            " [  257.73498767  -128.63985357   322.36421449   474.41112061\n",
            " 23823.39253065]\n",
            "Predicted Insurance Cost: \n",
            " [2707.44028805]\n"
          ]
        },
        {
          "output_type": "stream",
          "name": "stderr",
          "text": [
            "/usr/local/lib/python3.7/dist-packages/sklearn/base.py:446: UserWarning: X does not have valid feature names, but LinearRegression was fitted with feature names\n",
            "  \"X does not have valid feature names, but\"\n"
          ]
        }
      ]
    },
    {
      "cell_type": "code",
      "metadata": {
        "colab": {
          "base_uri": "https://localhost:8080/"
        },
        "id": "bDZzNnSbjk6N",
        "outputId": "67003fb5-132d-4687-9f05-1682af8cf350"
      },
      "source": [
        "# with statsmodels\n",
        "X = sm.add_constant(X) # adding a constant\n",
        "model = sm.OLS(Y, X).fit()\n",
        "predictions = model.predict(X) \n",
        " \n",
        "print_model = model.summary()\n",
        "print(print_model)"
      ],
      "execution_count": 29,
      "outputs": [
        {
          "output_type": "stream",
          "name": "stdout",
          "text": [
            "                            OLS Regression Results                            \n",
            "==============================================================================\n",
            "Dep. Variable:                charges   R-squared:                       0.750\n",
            "Model:                            OLS   Adj. R-squared:                  0.749\n",
            "Method:                 Least Squares   F-statistic:                     798.0\n",
            "Date:                Thu, 25 Nov 2021   Prob (F-statistic):               0.00\n",
            "Time:                        10:05:34   Log-Likelihood:                -13551.\n",
            "No. Observations:                1338   AIC:                         2.711e+04\n",
            "Df Residuals:                    1332   BIC:                         2.715e+04\n",
            "Df Model:                           5                                         \n",
            "Covariance Type:            nonrobust                                         \n",
            "==============================================================================\n",
            "                 coef    std err          t      P>|t|      [0.025      0.975]\n",
            "------------------------------------------------------------------------------\n",
            "const      -1.205e+04    951.260    -12.670      0.000   -1.39e+04   -1.02e+04\n",
            "age          257.7350     11.904     21.651      0.000     234.383     281.087\n",
            "sex         -128.6399    333.361     -0.386      0.700    -782.609     525.329\n",
            "bmi          322.3642     27.419     11.757      0.000     268.576     376.153\n",
            "children     474.4111    137.856      3.441      0.001     203.973     744.849\n",
            "smoker      2.382e+04    412.523     57.750      0.000     2.3e+04    2.46e+04\n",
            "==============================================================================\n",
            "Omnibus:                      301.103   Durbin-Watson:                   2.087\n",
            "Prob(Omnibus):                  0.000   Jarque-Bera (JB):              720.380\n",
            "Skew:                           1.214   Prob(JB):                    3.73e-157\n",
            "Kurtosis:                       5.650   Cond. No.                         295.\n",
            "==============================================================================\n",
            "\n",
            "Warnings:\n",
            "[1] Standard Errors assume that the covariance matrix of the errors is correctly specified.\n"
          ]
        }
      ]
    }
  ]
}